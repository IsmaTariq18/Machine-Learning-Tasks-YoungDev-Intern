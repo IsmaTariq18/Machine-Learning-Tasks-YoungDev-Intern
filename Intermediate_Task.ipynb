{
  "nbformat": 4,
  "nbformat_minor": 0,
  "metadata": {
    "colab": {
      "provenance": [],
      "authorship_tag": "ABX9TyPA47acYvzigvd86dqyia7c",
      "include_colab_link": true
    },
    "kernelspec": {
      "name": "python3",
      "display_name": "Python 3"
    },
    "language_info": {
      "name": "python"
    }
  },
  "cells": [
    {
      "cell_type": "markdown",
      "metadata": {
        "id": "view-in-github",
        "colab_type": "text"
      },
      "source": [
        "<a href=\"https://colab.research.google.com/github/IsmaTariq18/Machine-Learning-Tasks-YoungDev-Intern/blob/main/Intermediate_Task.ipynb\" target=\"_parent\"><img src=\"https://colab.research.google.com/assets/colab-badge.svg\" alt=\"Open In Colab\"/></a>"
      ]
    },
    {
      "cell_type": "markdown",
      "source": [
        "#Build a Model with Cross-Validation"
      ],
      "metadata": {
        "id": "sUY1ZyBhP89O"
      }
    },
    {
      "cell_type": "code",
      "execution_count": null,
      "metadata": {
        "colab": {
          "base_uri": "https://localhost:8080/"
        },
        "id": "SDkd4wBnPy7W",
        "outputId": "6d028582-3268-4ac5-b89f-6c7273caf90b"
      },
      "outputs": [
        {
          "output_type": "stream",
          "name": "stdout",
          "text": [
            "Accuracy across folds:  [1.         0.96666667 0.93333333 0.93333333 0.93333333]\n",
            "Mean Accuracy:  0.9533333333333335\n",
            "F1 Score across folds:  [1.         0.96617827 0.93333333 0.93333333 0.93308081]\n",
            "Mean F1 Score:  0.9531851481851483\n"
          ]
        }
      ],
      "source": [
        "# Importing necessary libraries\n",
        "from sklearn.datasets import load_iris\n",
        "from sklearn.model_selection import cross_val_score, KFold\n",
        "from sklearn.tree import DecisionTreeClassifier\n",
        "from sklearn.metrics import accuracy_score, make_scorer, f1_score, classification_report\n",
        "from sklearn.model_selection import train_test_split\n",
        "from sklearn.preprocessing import StandardScaler, OneHotEncoder\n",
        "from sklearn.impute import SimpleImputer\n",
        "from sklearn.compose import ColumnTransformer\n",
        "from sklearn.pipeline import Pipeline\n",
        "from sklearn.datasets import load_iris\n",
        "import pandas as pd\n",
        "\n",
        "# Loading the Iris dataset\n",
        "iris = load_iris()\n",
        "X, y = iris.data, iris.target\n",
        "\n",
        "# Initializing the classifier\n",
        "clf = DecisionTreeClassifier()\n",
        "\n",
        "# Using k-fold cross-validation (k=5)\n",
        "kf = KFold(n_splits=5, shuffle=True, random_state=42)\n",
        "accuracy_scores = cross_val_score(clf, X, y, cv=kf, scoring='accuracy')\n",
        "f1_scores = cross_val_score(clf, X, y, cv=kf, scoring='f1_weighted')\n",
        "\n",
        "# Displaying the results\n",
        "print(\"Accuracy across folds: \", accuracy_scores)\n",
        "print(\"Mean Accuracy: \", accuracy_scores.mean())\n",
        "print(\"F1 Score across folds: \", f1_scores)\n",
        "print(\"Mean F1 Score: \", f1_scores.mean())\n"
      ]
    },
    {
      "cell_type": "markdown",
      "source": [
        "#Preprocess Data for Machine Learning"
      ],
      "metadata": {
        "id": "Eb6umerLQIeF"
      }
    },
    {
      "cell_type": "code",
      "source": [
        "# Loading the Iris dataset\n",
        "iris = load_iris(as_frame=True)\n",
        "X = iris['data']\n",
        "y = iris['target']\n",
        "\n",
        "# Handling missing values (for demonstration, inserting some NaN values)\n",
        "X.iloc[0, 0] = None\n",
        "\n",
        "# Preprocessing pipeline\n",
        "numeric_features = X.select_dtypes(include=['float64', 'int64']).columns\n",
        "numeric_transformer = Pipeline(steps=[\n",
        "    ('imputer', SimpleImputer(strategy='mean')),\n",
        "    ('scaler', StandardScaler())\n",
        "])\n",
        "\n",
        "# If you had categorical features (not in Iris), you could encode them\n",
        "# categorical_features = ['categorical_column']\n",
        "# categorical_transformer = OneHotEncoder(handle_unknown='ignore')\n",
        "\n",
        "# Combining preprocessing steps\n",
        "preprocessor = ColumnTransformer(transformers=[\n",
        "    ('num', numeric_transformer, numeric_features)\n",
        "])\n",
        "\n",
        "# Splitting data into training and testing sets\n",
        "X_train, X_test, y_train, y_test = train_test_split(X, y, test_size=0.3, random_state=42)\n",
        "\n",
        "# Applying preprocessing pipeline\n",
        "X_train = preprocessor.fit_transform(X_train)\n",
        "X_test = preprocessor.transform(X_test)\n",
        "\n",
        "print(\"Preprocessed data successfully.\")\n"
      ],
      "metadata": {
        "colab": {
          "base_uri": "https://localhost:8080/"
        },
        "id": "P2hPHQcWQJi2",
        "outputId": "ef2420d7-df05-4306-ab25-934a2a543e57"
      },
      "execution_count": null,
      "outputs": [
        {
          "output_type": "stream",
          "name": "stdout",
          "text": [
            "Preprocessed data successfully.\n"
          ]
        }
      ]
    },
    {
      "cell_type": "markdown",
      "source": [
        "#Create a Classification Report"
      ],
      "metadata": {
        "id": "s6IqU8JYQYPE"
      }
    },
    {
      "cell_type": "code",
      "source": [
        "# Loading the Iris dataset\n",
        "iris = load_iris()\n",
        "X, y = iris.data, iris.target\n",
        "\n",
        "# Splitting data into training and testing sets\n",
        "X_train, X_test, y_train, y_test = train_test_split(X, y, test_size=0.3, random_state=42)\n",
        "\n",
        "# Training the decision tree classifier\n",
        "clf = DecisionTreeClassifier()\n",
        "clf.fit(X_train, y_train)\n",
        "\n",
        "# Making predictions\n",
        "y_pred = clf.predict(X_test)\n",
        "\n",
        "# Generating classification report\n",
        "report = classification_report(y_test, y_pred, target_names=iris.target_names)\n",
        "print(report)\n"
      ],
      "metadata": {
        "colab": {
          "base_uri": "https://localhost:8080/"
        },
        "id": "reyC6Z4-QVy1",
        "outputId": "2be3da01-c63e-4ff4-8c94-45b9cf9460e2"
      },
      "execution_count": null,
      "outputs": [
        {
          "output_type": "stream",
          "name": "stdout",
          "text": [
            "              precision    recall  f1-score   support\n",
            "\n",
            "      setosa       1.00      1.00      1.00        19\n",
            "  versicolor       1.00      1.00      1.00        13\n",
            "   virginica       1.00      1.00      1.00        13\n",
            "\n",
            "    accuracy                           1.00        45\n",
            "   macro avg       1.00      1.00      1.00        45\n",
            "weighted avg       1.00      1.00      1.00        45\n",
            "\n"
          ]
        }
      ]
    },
    {
      "cell_type": "code",
      "source": [],
      "metadata": {
        "id": "NeUtVBJBRHqj"
      },
      "execution_count": null,
      "outputs": []
    }
  ]
}